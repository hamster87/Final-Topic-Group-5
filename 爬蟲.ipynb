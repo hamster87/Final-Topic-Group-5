{
 "cells": [
  {
   "cell_type": "code",
   "execution_count": 2,
   "metadata": {},
   "outputs": [
    {
     "name": "stdout",
     "output_type": "stream",
     "text": [
      "Collecting simple-image-download==0.4\n",
      "  Downloading simple_image_download-0.4-py3-none-any.whl.metadata (2.4 kB)\n",
      "Requirement already satisfied: requests in c:\\users\\lincu\\anaconda3\\lib\\site-packages (from simple-image-download==0.4) (2.31.0)\n",
      "Collecting python-magic-bin==0.4.14 (from simple-image-download==0.4)\n",
      "  Downloading python_magic_bin-0.4.14-py2.py3-none-win_amd64.whl.metadata (710 bytes)\n",
      "Collecting progressbar (from simple-image-download==0.4)\n",
      "  Downloading progressbar-2.5.tar.gz (10 kB)\n",
      "  Preparing metadata (setup.py): started\n",
      "  Preparing metadata (setup.py): finished with status 'done'\n",
      "Requirement already satisfied: charset-normalizer<4,>=2 in c:\\users\\lincu\\anaconda3\\lib\\site-packages (from requests->simple-image-download==0.4) (2.0.4)\n",
      "Requirement already satisfied: idna<4,>=2.5 in c:\\users\\lincu\\anaconda3\\lib\\site-packages (from requests->simple-image-download==0.4) (3.4)\n",
      "Requirement already satisfied: urllib3<3,>=1.21.1 in c:\\users\\lincu\\anaconda3\\lib\\site-packages (from requests->simple-image-download==0.4) (1.26.16)\n",
      "Requirement already satisfied: certifi>=2017.4.17 in c:\\users\\lincu\\anaconda3\\lib\\site-packages (from requests->simple-image-download==0.4) (2024.2.2)\n",
      "Downloading simple_image_download-0.4-py3-none-any.whl (4.9 kB)\n",
      "Downloading python_magic_bin-0.4.14-py2.py3-none-win_amd64.whl (409 kB)\n",
      "   ---------------------------------------- 0.0/409.3 kB ? eta -:--:--\n",
      "   - -------------------------------------- 10.2/409.3 kB ? eta -:--:--\n",
      "   -- ------------------------------------ 30.7/409.3 kB 435.7 kB/s eta 0:00:01\n",
      "   ----- --------------------------------- 61.4/409.3 kB 544.7 kB/s eta 0:00:01\n",
      "   ---------- --------------------------- 112.6/409.3 kB 652.2 kB/s eta 0:00:01\n",
      "   --------------- ---------------------- 163.8/409.3 kB 817.0 kB/s eta 0:00:01\n",
      "   -------------------- ----------------- 225.3/409.3 kB 915.1 kB/s eta 0:00:01\n",
      "   ------------------------------ --------- 307.2/409.3 kB 1.1 MB/s eta 0:00:01\n",
      "   ---------------------------------------- 409.3/409.3 kB 1.3 MB/s eta 0:00:00\n",
      "Building wheels for collected packages: progressbar\n",
      "  Building wheel for progressbar (setup.py): started\n",
      "  Building wheel for progressbar (setup.py): finished with status 'done'\n",
      "  Created wheel for progressbar: filename=progressbar-2.5-py3-none-any.whl size=12084 sha256=44e40b8e0984d5dfcebb6a6dfb5179d6c7a653aa745f9d9630b27a16208d90d7\n",
      "  Stored in directory: c:\\users\\lincu\\appdata\\local\\pip\\cache\\wheels\\8d\\bb\\b2\\5353b966ac6f3c5e1000629a9a5f6aed41794487f551e32efc\n",
      "Successfully built progressbar\n",
      "Installing collected packages: python-magic-bin, progressbar, simple-image-download\n",
      "Successfully installed progressbar-2.5 python-magic-bin-0.4.14 simple-image-download-0.4\n",
      "Note: you may need to restart the kernel to use updated packages.\n"
     ]
    }
   ],
   "source": [
    "pip install simple-image-download==0.4"
   ]
  },
  {
   "cell_type": "code",
   "execution_count": 3,
   "metadata": {},
   "outputs": [
    {
     "name": "stderr",
     "output_type": "stream",
     "text": [
      "[========================================================================] 100%\n"
     ]
    }
   ],
   "source": [
    "from simple_image_download import simple_image_download as simp\n",
    "response = simp.simple_image_download\n",
    "response().download('kirby,pikachu', limit=30)"
   ]
  }
 ],
 "metadata": {
  "kernelspec": {
   "display_name": "base",
   "language": "python",
   "name": "python3"
  },
  "language_info": {
   "codemirror_mode": {
    "name": "ipython",
    "version": 3
   },
   "file_extension": ".py",
   "mimetype": "text/x-python",
   "name": "python",
   "nbconvert_exporter": "python",
   "pygments_lexer": "ipython3",
   "version": "3.11.9"
  }
 },
 "nbformat": 4,
 "nbformat_minor": 2
}
